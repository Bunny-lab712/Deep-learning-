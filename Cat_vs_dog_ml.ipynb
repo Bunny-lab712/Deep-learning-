{
  "nbformat": 4,
  "nbformat_minor": 0,
  "metadata": {
    "colab": {
      "private_outputs": true,
      "provenance": [],
      "authorship_tag": "ABX9TyOPkcy33h858rGMAaAb2Vdr",
      "include_colab_link": true
    },
    "kernelspec": {
      "name": "python3",
      "display_name": "Python 3"
    },
    "language_info": {
      "name": "python"
    }
  },
  "cells": [
    {
      "cell_type": "markdown",
      "metadata": {
        "id": "view-in-github",
        "colab_type": "text"
      },
      "source": [
        "<a href=\"https://colab.research.google.com/github/Bunny-lab712/Deep-learning-/blob/main/Cat_vs_dog_ml.ipynb\" target=\"_parent\"><img src=\"https://colab.research.google.com/assets/colab-badge.svg\" alt=\"Open In Colab\"/></a>"
      ]
    },
    {
      "cell_type": "code",
      "execution_count": null,
      "metadata": {
        "id": "uDsuIfUehO8d"
      },
      "outputs": [],
      "source": [
        "!mkdir -p ~/.kaggle\n",
        "!cp kaggle.json ~/.kaggle/\n",
        "!chmod 600 ~/.kaggle/kaggle.json"
      ]
    },
    {
      "cell_type": "code",
      "source": [
        "!kaggle competitions download -c dogs-vs-cats\n"
      ],
      "metadata": {
        "id": "bosCQGwhhjWL"
      },
      "execution_count": null,
      "outputs": []
    },
    {
      "cell_type": "code",
      "source": [
        "from zipfile import ZipFile\n",
        "filename='/content/dogs-vs-cats.zip'\n",
        "with ZipFile(filename,'r')as zip:\n",
        "  zip.extractall()\n",
        "  print(\"extracted\")"
      ],
      "metadata": {
        "id": "voREAozniAhG"
      },
      "execution_count": null,
      "outputs": []
    },
    {
      "cell_type": "code",
      "source": [
        "from zipfile import ZipFile\n",
        "\n",
        "file_name='/content/train.zip'\n",
        "\n",
        "with ZipFile(file_name,'r') as zip:\n",
        "  zip.extractall()\n",
        "  print(\"extrc\")"
      ],
      "metadata": {
        "id": "bO5AvdbKiT-v"
      },
      "execution_count": null,
      "outputs": []
    },
    {
      "cell_type": "code",
      "source": [
        "import os\n",
        "path, dirs, files = next(os.walk('/content/train'))\n",
        "print(len(files))"
      ],
      "metadata": {
        "id": "MynuKw46kXFA"
      },
      "execution_count": null,
      "outputs": []
    },
    {
      "cell_type": "code",
      "source": [
        "input_name=os.listdir('/content/train')\n",
        "print(input_name)"
      ],
      "metadata": {
        "id": "ED2d6wtNklIq"
      },
      "execution_count": null,
      "outputs": []
    },
    {
      "cell_type": "code",
      "source": [
        "import numpy as np\n",
        "import matplotlib.pyplot as plt\n",
        "import matplotlib.image as pltimg\n"
      ],
      "metadata": {
        "id": "sKvy3Pjlkvsz"
      },
      "execution_count": null,
      "outputs": []
    },
    {
      "cell_type": "code",
      "source": [],
      "metadata": {
        "id": "8Qu2qCellUiw"
      },
      "execution_count": null,
      "outputs": []
    },
    {
      "cell_type": "code",
      "source": [
        "dog_image=pltimg.imread('/content/train/dog.2707.jpg')\n",
        "plt.imshow(dog_image)\n",
        "plt.show"
      ],
      "metadata": {
        "id": "T5hk__Vkk609"
      },
      "execution_count": null,
      "outputs": []
    },
    {
      "cell_type": "code",
      "source": [
        "cat_image=pltimg.imread('/content/train/cat.6515.jpg')\n",
        "plt.imshow(cat_image)\n",
        "plt.show()"
      ],
      "metadata": {
        "id": "oQJn36bklZVg"
      },
      "execution_count": null,
      "outputs": []
    },
    {
      "cell_type": "code",
      "source": [
        "file_name=os.listdir('/content/train')\n",
        "\n",
        "for i in range(5):\n",
        "  image=file_name[i]\n",
        "\n",
        "  print(image[0:3])\n"
      ],
      "metadata": {
        "id": "kcRReRSYlrfj"
      },
      "execution_count": null,
      "outputs": []
    },
    {
      "cell_type": "code",
      "source": [
        "file_name=os.listdir('/content/train')\n",
        "dog_count=0\n",
        "cat_count=0\n",
        "\n",
        "for i in range(2000):\n",
        "  image=file_name[i]\n",
        "\n",
        "  if image[0:3]=='dog':\n",
        "    dog_count += 1\n",
        "  else:\n",
        "    cat_count += 1\n",
        "\n",
        "print(dog_count)\n",
        "print(cat_count)\n",
        "\n",
        "\n",
        "\n"
      ],
      "metadata": {
        "id": "AMMO5WiKmLyX"
      },
      "execution_count": null,
      "outputs": []
    },
    {
      "cell_type": "code",
      "source": [
        "os.mkdir('/content/img resi')"
      ],
      "metadata": {
        "id": "nAsYA2nfm4RV"
      },
      "execution_count": null,
      "outputs": []
    },
    {
      "cell_type": "code",
      "source": [
        "old_file='/content/train/'\n",
        "new_file='/content/img resi/'"
      ],
      "metadata": {
        "id": "C-TRGbKcnCfO"
      },
      "execution_count": null,
      "outputs": []
    },
    {
      "cell_type": "code",
      "source": [
        "from PIL import Image\n",
        "for i in range(2000):\n",
        "  filename=os.listdir('/content/train/')[i]\n",
        "  img_path=old_file+filename\n",
        "\n",
        "  img= Image.open(img_path)\n",
        "  img=img.resize((224,224))\n",
        "  img=img.convert('RGB')\n",
        "\n",
        "  newpath=new_file+filename\n",
        "  img.save(newpath)\n",
        "\n"
      ],
      "metadata": {
        "id": "HkoqZMvYnJUP"
      },
      "execution_count": null,
      "outputs": []
    },
    {
      "cell_type": "code",
      "source": [
        "img=pltimg.imread('/content/img res/dog.2707.jpg')\n",
        "plt.imshow(img)\n",
        "plt.show()"
      ],
      "metadata": {
        "id": "rMm3VWt5n2ls"
      },
      "execution_count": null,
      "outputs": []
    },
    {
      "cell_type": "code",
      "source": [
        "new_file=os.listdir('/content/img resi')"
      ],
      "metadata": {
        "id": "CDQabZP9o_vv"
      },
      "execution_count": null,
      "outputs": []
    },
    {
      "cell_type": "code",
      "source": [
        "labels=[]\n",
        "\n",
        "for i in range(2000):\n",
        "  file_name=new_file[i]\n",
        "  filename=file_name[0:3]\n",
        "\n",
        "  if filename=='dog':\n",
        "    labels.append(1)\n",
        "  else:\n",
        "    labels.append(0)\n",
        "\n",
        "  print(labels)\n"
      ],
      "metadata": {
        "id": "9lJd3h-Dpf5z"
      },
      "execution_count": null,
      "outputs": []
    },
    {
      "cell_type": "code",
      "source": [
        "print(labels[10])"
      ],
      "metadata": {
        "id": "3-rNavbUp0RV"
      },
      "execution_count": null,
      "outputs": []
    },
    {
      "cell_type": "code",
      "source": [
        "value, count=np.unique(labels,return_counts=True)\n",
        "print(value)\n",
        "print(count)"
      ],
      "metadata": {
        "id": "lkW9UzFiqs5t"
      },
      "execution_count": null,
      "outputs": []
    },
    {
      "cell_type": "code",
      "source": [
        "import cv2\n",
        "import glob\n"
      ],
      "metadata": {
        "id": "7ngbHqWOq6DO"
      },
      "execution_count": null,
      "outputs": []
    },
    {
      "cell_type": "code",
      "source": [
        "image_directory='/content/img resi/'\n",
        "image_extension=['png','jpg']\n",
        "\n",
        "files=[]\n",
        "\n",
        "[files.extend(glob.glob(image_directory+'*.'+e)) for e in image_extension]\n",
        "dog_cat_images=np.asarray([cv2.imread(file) for file in files])"
      ],
      "metadata": {
        "id": "VryG6nZMrF9o"
      },
      "execution_count": null,
      "outputs": []
    },
    {
      "cell_type": "code",
      "source": [
        "print(dog_cat_images)"
      ],
      "metadata": {
        "id": "8Rkt31kRr48f"
      },
      "execution_count": null,
      "outputs": []
    },
    {
      "cell_type": "code",
      "source": [
        "print(dog_cat_images.shape)"
      ],
      "metadata": {
        "id": "Iv35evsctUW6"
      },
      "execution_count": null,
      "outputs": []
    },
    {
      "cell_type": "code",
      "source": [
        "x=dog_cat_images\n",
        "y=np.asarray(labels)"
      ],
      "metadata": {
        "id": "ktz0ceXiuDgJ"
      },
      "execution_count": null,
      "outputs": []
    },
    {
      "cell_type": "code",
      "source": [
        "from sklearn.model_selection import train_test_split\n",
        "\n",
        "x_train,x_test,y_train,y_test=train_test_split(x,y,test_size=0.2,random_state=42)"
      ],
      "metadata": {
        "id": "ysAMNhI_uPQp"
      },
      "execution_count": null,
      "outputs": []
    },
    {
      "cell_type": "code",
      "source": [
        "print(x_train.shape,x_test.shape,y_train.shape,y_test.shape)"
      ],
      "metadata": {
        "id": "yIj0uA2DuoMV"
      },
      "execution_count": null,
      "outputs": []
    },
    {
      "cell_type": "code",
      "source": [
        "x_train_scale=x_train/255\n",
        "x_test_scale=x_test/255"
      ],
      "metadata": {
        "id": "uU2zNwXuutme"
      },
      "execution_count": null,
      "outputs": []
    },
    {
      "cell_type": "code",
      "source": [
        "print(x_train_scale)"
      ],
      "metadata": {
        "id": "sZHJz2cIvR_w"
      },
      "execution_count": null,
      "outputs": []
    },
    {
      "cell_type": "code",
      "source": [
        "import tensorflow as tf\n",
        "import tensorflow_hub as hub\n",
        "from tensorflow import keras\n",
        "from keras import layers,models\n"
      ],
      "metadata": {
        "id": "dRiQI5vKvUgy"
      },
      "execution_count": null,
      "outputs": []
    },
    {
      "cell_type": "code",
      "source": [
        "!pip install tensorflow==2.15.0 tensorflow-hub"
      ],
      "metadata": {
        "id": "V4LIWLgXxDQi"
      },
      "execution_count": null,
      "outputs": []
    },
    {
      "cell_type": "code",
      "source": [
        "mobile_net='https://tfhub.dev/google/tf2-preview/mobilenet_v2/feature_vector/4'\n",
        "pretrained_model=hub.KerasLayer(mobile_net,input_shape=(224,224,3),trainable=False)\n",
        "\n",
        "model=models.Sequential()\n",
        "\n",
        "model.add(pretrained_model)\n",
        "\n",
        "model.add(layers.Dense(224,activation='relu'))\n",
        "model.add(layers.Dense(2,activation='softmax'))\n",
        "model.summary()"
      ],
      "metadata": {
        "id": "EBDta1KKveQs"
      },
      "execution_count": null,
      "outputs": []
    },
    {
      "cell_type": "code",
      "source": [
        "model.compile(\n",
        "    optimizer='adam',\n",
        "    loss='sparse_categorical_crossentropy',\n",
        "    metrics=['acc']\n",
        ")"
      ],
      "metadata": {
        "id": "KHBrrkGjwUhc"
      },
      "execution_count": null,
      "outputs": []
    },
    {
      "cell_type": "code",
      "source": [
        "model.fit(x_train_scale,y_train,epochs=2)"
      ],
      "metadata": {
        "id": "s4aevPuVAWZP"
      },
      "execution_count": null,
      "outputs": []
    },
    {
      "cell_type": "code",
      "source": [
        "score,acc=model.evaluate(x_test_scale,y_test)\n",
        "print(score)\n",
        "print(acc)"
      ],
      "metadata": {
        "id": "AdzyP8r2BS1G"
      },
      "execution_count": null,
      "outputs": []
    },
    {
      "cell_type": "code",
      "source": [
        "from google.colab.patches import cv2_imshow\n",
        "input_image_path=input(\"enter the path of image\")\n",
        "\n",
        "if not os.path.exists(input_image_path):\n",
        "  print(f\"the image {input_image_path} is not present \")\n",
        "else:\n",
        "  input_img=cv2.imread(input_image_path)\n",
        "\n",
        "if input_img is None:\n",
        "  print(\"image is not present\")\n",
        "else:\n",
        "\n",
        "  cv2_imshow(input_img)\n",
        "  image_resize=cv2.resize(input_img,(224,224))\n",
        "  image_reshape=np.reshape(image_resize,[1,224,224,3])\n",
        "  input_pred=model.predict(image_reshape)\n",
        "  input_pred_max=np.argmax(input_pred)\n",
        "\n",
        "\n",
        "\n",
        "  if input_pred_max==0:\n",
        "    print(\"The image is cat\")\n",
        "  else:\n",
        "    print(\"The image is dog\")\n",
        "\n"
      ],
      "metadata": {
        "id": "0pFf43Y0BkC3"
      },
      "execution_count": null,
      "outputs": []
    },
    {
      "cell_type": "code",
      "source": [
        "from google.colab.patches import cv2_imshow\n",
        "input_image_path=input(\"enter the path of image\")\n",
        "\n",
        "if not os.path.exists(input_image_path):\n",
        "  print(f\"path {input_image_path } dosen't exst  \")\n",
        "else:\n",
        "  input_image=cv2.imread(input_image_path)\n",
        "\n",
        "if input_image is None:\n",
        "  print(\"The image is empty\")\n",
        "else:\n",
        "  cv2_imshow(input_image)\n",
        "  image_resize=cv2.resize(input_image,(224,224))\n",
        "\n",
        "  image_scale=image_resize/255\n",
        "  image_reshaped=np.reshape(image_scale,[1,224,224,3])\n",
        "\n",
        "  input_pred=model.predict(image_reshaped)\n",
        "  input_pred_max=np.argmax(input_pred)\n",
        "\n",
        "  if input_pred_max=='0':\n",
        "    print(\"The image is a cat\")\n",
        "  else:\n",
        "    print(\"The image is a dog\")"
      ],
      "metadata": {
        "id": "H1ypjuY7EvJb"
      },
      "execution_count": null,
      "outputs": []
    },
    {
      "cell_type": "code",
      "source": [
        "\n",
        "\n",
        "\n",
        "\n",
        "\n",
        "\n",
        "\n",
        "\n",
        "\n",
        "\n",
        "\n",
        "\n"
      ],
      "metadata": {
        "id": "26bcMAEFHTxZ"
      },
      "execution_count": null,
      "outputs": []
    }
  ]
}